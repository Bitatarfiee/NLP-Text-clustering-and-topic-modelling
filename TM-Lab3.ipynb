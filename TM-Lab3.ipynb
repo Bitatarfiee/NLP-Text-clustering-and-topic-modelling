{
 "cells": [
  {
   "cell_type": "markdown",
   "metadata": {},
   "source": [
    "<div class=\"alert alert-info\">\n",
    "    \n",
    "➡️ Make sure that you have read the **[rules for hand-in assignments](https://www.ida.liu.se/~TDDE16/exam.en.shtml#handins)** and the **[policy on cheating and plagiarism](https://www.ida.liu.se/~TDDE16/exam.en.shtml#cheating)** before starting with this lab.\n",
    "\n",
    "➡️ Make sure you fill in any cells (and _only_ those cells) that say **`YOUR CODE HERE`** or **YOUR ANSWER HERE**, and do _not_ modify any of the other cells.\n",
    "\n",
    "➡️ **Before you submit your lab, make sure everything runs as expected.** For this, _restart the kernel_ and _run all cells_ from top to bottom. In Jupyter Notebook version 7 or higher, you can do this via \"Run$\\rightarrow$Restart Kernel and Run All Cells...\" in the menu (or the \"⏩\" button in the toolbar).\n",
    "\n",
    "</div>"
   ]
  },
  {
   "cell_type": "markdown",
   "metadata": {},
   "source": [
    "# L3: Text clustering and topic modelling"
   ]
  },
  {
   "cell_type": "markdown",
   "metadata": {},
   "source": [
    "Text clustering groups documents in such a way that documents within a group are more &lsquo;similar&rsquo; to other documents in the cluster than to documents not in the cluster. The exact definition of what &lsquo;similar&rsquo; means in this context varies across applications and clustering algorithms.\n",
    "\n",
    "In this lab you will experiment with both hard and soft clustering techniques. More specifically, in the first part you will be using the $k$-means algorithm, and in the second part you will be using a topic model based on the Latent Dirichlet Allocation (LDA)."
   ]
  },
  {
   "cell_type": "code",
   "execution_count": 1,
   "metadata": {
    "deletable": false,
    "editable": false,
    "nbgrader": {
     "cell_type": "code",
     "checksum": "7807a0c189a6c7ed59c8e31b90cdded6",
     "grade": false,
     "grade_id": "cell-c4776a1666a48ddd",
     "locked": true,
     "schema_version": 3,
     "solution": false,
     "task": false
    }
   },
   "outputs": [],
   "source": [
    "# Define some helper functions that are used in this notebook\n",
    "\n",
    "%matplotlib inline\n",
    "from IPython.display import display, HTML\n",
    "\n",
    "def success():\n",
    "    display(HTML('<div class=\"alert alert-success\"><strong>Solution appears correct!</strong></div>'))"
   ]
  },
  {
   "cell_type": "markdown",
   "metadata": {},
   "source": [
    "## Hard clustering data set"
   ]
  },
  {
   "cell_type": "markdown",
   "metadata": {},
   "source": [
    "The raw data for the hard clustering part of this lab is a collection of product reviews. We have preprocessed the data by tokenization and lowercasing."
   ]
  },
  {
   "cell_type": "code",
   "execution_count": 2,
   "metadata": {
    "deletable": false,
    "editable": false,
    "nbgrader": {
     "cell_type": "code",
     "checksum": "007298be2cbb2c02ebe809b6a44f0f48",
     "grade": false,
     "grade_id": "cell-59c1ac1d68e6c524",
     "locked": true,
     "schema_version": 3,
     "solution": false,
     "task": false
    }
   },
   "outputs": [],
   "source": [
    "import pandas as pd\n",
    "import bz2\n",
    "\n",
    "with bz2.open('reviews.json.bz2') as source:\n",
    "    df = pd.read_json(source)"
   ]
  },
  {
   "cell_type": "markdown",
   "metadata": {},
   "source": [
    "When you inspect the data frame, you can see that there are three labelled columns: `category` (the product category), `sentiment` (whether the product review was classified as &lsquo;positive&rsquo; or &lsquo;negative&rsquo; towards the product), and `text` (the space-separated text of the review)."
   ]
  },
  {
   "cell_type": "code",
   "execution_count": 3,
   "metadata": {},
   "outputs": [
    {
     "data": {
      "text/html": [
       "<div>\n",
       "<style scoped>\n",
       "    .dataframe tbody tr th:only-of-type {\n",
       "        vertical-align: middle;\n",
       "    }\n",
       "\n",
       "    .dataframe tbody tr th {\n",
       "        vertical-align: top;\n",
       "    }\n",
       "\n",
       "    .dataframe thead th {\n",
       "        text-align: right;\n",
       "    }\n",
       "</style>\n",
       "<table border=\"1\" class=\"dataframe\">\n",
       "  <thead>\n",
       "    <tr style=\"text-align: right;\">\n",
       "      <th></th>\n",
       "      <th>category</th>\n",
       "      <th>sentiment</th>\n",
       "      <th>text</th>\n",
       "    </tr>\n",
       "  </thead>\n",
       "  <tbody>\n",
       "    <tr>\n",
       "      <th>0</th>\n",
       "      <td>music</td>\n",
       "      <td>neg</td>\n",
       "      <td>i bought this album because i loved the title ...</td>\n",
       "    </tr>\n",
       "    <tr>\n",
       "      <th>1</th>\n",
       "      <td>music</td>\n",
       "      <td>neg</td>\n",
       "      <td>i was misled and thought i was buying the enti...</td>\n",
       "    </tr>\n",
       "    <tr>\n",
       "      <th>2</th>\n",
       "      <td>books</td>\n",
       "      <td>neg</td>\n",
       "      <td>i have introduced many of my ell , high school...</td>\n",
       "    </tr>\n",
       "    <tr>\n",
       "      <th>3</th>\n",
       "      <td>books</td>\n",
       "      <td>pos</td>\n",
       "      <td>anything you purchase in the left behind serie...</td>\n",
       "    </tr>\n",
       "    <tr>\n",
       "      <th>4</th>\n",
       "      <td>dvd</td>\n",
       "      <td>pos</td>\n",
       "      <td>i loved these movies , and i cant wiat for the...</td>\n",
       "    </tr>\n",
       "  </tbody>\n",
       "</table>\n",
       "</div>"
      ],
      "text/plain": [
       "  category sentiment                                               text\n",
       "0    music       neg  i bought this album because i loved the title ...\n",
       "1    music       neg  i was misled and thought i was buying the enti...\n",
       "2    books       neg  i have introduced many of my ell , high school...\n",
       "3    books       pos  anything you purchase in the left behind serie...\n",
       "4      dvd       pos  i loved these movies , and i cant wiat for the..."
      ]
     },
     "execution_count": 3,
     "metadata": {},
     "output_type": "execute_result"
    }
   ],
   "source": [
    "df.head()"
   ]
  },
  {
   "cell_type": "markdown",
   "metadata": {},
   "source": [
    "## Problem 1: K-means clustering"
   ]
  },
  {
   "cell_type": "markdown",
   "metadata": {},
   "source": [
    "Your first task is to cluster the product review data using a tf–idf vectorizer and a $k$-means clusterer."
   ]
  },
  {
   "cell_type": "markdown",
   "metadata": {},
   "source": [
    "### Task 1.1\n",
    "\n",
    "Start by doing the vectorization. In connection with vectorization, you should also filter out standard English stop words. While you could use [spaCy](https://spacy.io/) for this task, here it suffices to use the word list implemented in [TfidfVectorizer](https://scikit-learn.org/stable/modules/generated/sklearn.feature_extraction.text.TfidfVectorizer.html).\n",
    "\n",
    "After running the following cell:\n",
    "- `vectorizer` should contain the vectorizer fitted on `df['text']`\n",
    "- `reviews` should contain the vectorized `df['text']`"
   ]
  },
  {
   "cell_type": "code",
   "execution_count": 4,
   "metadata": {
    "deletable": false,
    "nbgrader": {
     "cell_type": "code",
     "checksum": "217b844f6aadf1c8e9e02c15f8a9fc13",
     "grade": false,
     "grade_id": "cell-66e447662e958a44",
     "locked": false,
     "schema_version": 3,
     "solution": true,
     "task": false
    }
   },
   "outputs": [],
   "source": [
    "# YOUR CODE HERE\n",
    "from sklearn.feature_extraction.text import TfidfVectorizer\n",
    "vectorizer = TfidfVectorizer(stop_words = \"english\")\n",
    "\n",
    "reviews = vectorizer.fit_transform(df['text'])\n",
    "\n",
    "#raise NotImplementedError()"
   ]
  },
  {
   "cell_type": "code",
   "execution_count": 7,
   "metadata": {},
   "outputs": [],
   "source": [
    "#reviews.shape"
   ]
  },
  {
   "cell_type": "markdown",
   "metadata": {},
   "source": [
    "#### 🤞 Test your code\n",
    "\n",
    "If you used the English stop word list from scikit-learn, then the resulting vocabulary should have 46,619 entries.  You can check this by running the following code cell:"
   ]
  },
  {
   "cell_type": "code",
   "execution_count": 5,
   "metadata": {
    "deletable": false,
    "editable": false,
    "nbgrader": {
     "cell_type": "code",
     "checksum": "8fa82a4915bf8f9efc24e3b73e83a61c",
     "grade": true,
     "grade_id": "cell-b57497f350b4805e",
     "locked": true,
     "points": 1,
     "schema_version": 3,
     "solution": false,
     "task": false
    }
   },
   "outputs": [
    {
     "data": {
      "text/html": [
       "<div class=\"alert alert-success\"><strong>Solution appears correct!</strong></div>"
      ],
      "text/plain": [
       "<IPython.core.display.HTML object>"
      ]
     },
     "metadata": {},
     "output_type": "display_data"
    }
   ],
   "source": [
    "\"\"\"Check that the vectorized text column has the right dimensions.\"\"\"\n",
    "\n",
    "assert reviews.shape == (11914, 46619), f\"Wrong dimensions: {reviews.shape}\"\n",
    "success()"
   ]
  },
  {
   "cell_type": "markdown",
   "metadata": {},
   "source": [
    "### Task 1.2\n",
    "\n",
    "Next, cluster the vectorized data. Before doing so, you should read the documentation of the [KMeans](https://scikit-learn.org/stable/modules/generated/sklearn.cluster.KMeans.html) class, which is scikit-learn&rsquo;s implementation of the $k$-means algorithm. As you can see, this class has several parameters that you can tweak. For now, the only parameter that you will have to set is the number of clusters. Start with $k=3$.\n",
    "\n",
    "**Tip:** Training $k$-means models will take some time. To speed things up, you can use the `n_init` parameter to control the number of times that the clustering is re-computed with different initial values. The default value for this parameter is 10; here and in the rest of this lab, you may want to set this to a lower value, or simply to \"auto\"."
   ]
  },
  {
   "cell_type": "code",
   "execution_count": 6,
   "metadata": {
    "deletable": false,
    "nbgrader": {
     "cell_type": "code",
     "checksum": "f795b44fb710deb8ec6557222fe3186f",
     "grade": true,
     "grade_id": "cell-17f7b79dee452c3d",
     "locked": false,
     "points": 1,
     "schema_version": 3,
     "solution": true,
     "task": false
    },
    "tags": [
     "solution"
    ]
   },
   "outputs": [],
   "source": [
    "from sklearn.cluster import KMeans\n",
    "\n",
    "def fit_kmeans(data, n_clusters):\n",
    "    \"\"\"Fit a k-means classifier to some data.\n",
    "\n",
    "    Arguments:\n",
    "        data: The vectorized data to train the classifier on.\n",
    "        n_clusters (int): The number of clusters.\n",
    "\n",
    "    Returns:\n",
    "        The trained k-means classifier.\n",
    "    \"\"\"\n",
    "    # YOUR CODE HERE\n",
    "    kmeans = KMeans(n_clusters=3, n_init=\"auto\").fit(data)\n",
    "    return(kmeans)\n",
    "\n",
    "    \n",
    "    #raise NotImplementedError()"
   ]
  },
  {
   "cell_type": "markdown",
   "metadata": {},
   "source": [
    "To sanity-check your clustering, create a bar plot with the number of documents per cluster."
   ]
  },
  {
   "cell_type": "code",
   "execution_count": 8,
   "metadata": {
    "deletable": false,
    "nbgrader": {
     "cell_type": "code",
     "checksum": "40b71623600900c4911b5c12c3aa597e",
     "grade": true,
     "grade_id": "cell-d54820cd63b959ee",
     "locked": false,
     "points": 1,
     "schema_version": 3,
     "solution": true,
     "task": false
    },
    "tags": [
     "solution"
    ]
   },
   "outputs": [],
   "source": [
    "import matplotlib.pyplot as plt\n",
    "\n",
    "def plot_cluster_size(kmeans):\n",
    "    \"\"\"Produce & display a bar plot with the number of documents per cluster.\n",
    "\n",
    "    Arguments:\n",
    "        kmeans: The trained k-means classifier.\n",
    "    \"\"\"\n",
    "    # YOUR CODE HERE\n",
    "    pd.DataFrame(kmeans.labels_).value_counts().plot(kind='bar');\n",
    "    plt.title('Number of Documents per Cluster')\n",
    "    plt.show\n",
    "    #raise NotImplementedError()"
   ]
  },
  {
   "cell_type": "markdown",
   "metadata": {},
   "source": [
    "#### 🤞 Test your code\n",
    "\n",
    "The following cell shows how your code should run.  The output of the cell should be the bar plot of the cluster sizes.  Note that sizes may vary considerable between clusters and among different random seeds, so there is no single “correct” output here!"
   ]
  },
  {
   "cell_type": "code",
   "execution_count": 9,
   "metadata": {
    "deletable": false,
    "editable": false,
    "nbgrader": {
     "cell_type": "code",
     "checksum": "be43147fbe32384e27725a250f90f8ed",
     "grade": false,
     "grade_id": "cell-d19c0d777f6bc8c2",
     "locked": true,
     "schema_version": 3,
     "solution": false,
     "task": false
    }
   },
   "outputs": [
    {
     "data": {
      "image/png": "[encoded data removed]",
      "text/plain": [
       "<Figure size 640x480 with 1 Axes>"
      ]
     },
     "metadata": {},
     "output_type": "display_data"
    }
   ],
   "source": [
    "kmeans = fit_kmeans(reviews, 3)\n",
    "plot_cluster_size(kmeans)"
   ]
  },
  {
   "cell_type": "markdown",
   "metadata": {},
   "source": [
    "## Problem 2: Summarize clusters"
   ]
  },
  {
   "cell_type": "markdown",
   "metadata": {},
   "source": [
    "Once you have a clustering, you can try to see whether it is meaningful. One useful technique in that context is to generate a **summary** for each cluster by extracting the $n$ highest-weighted terms from the centroid of each cluster. Your next task is to implement this approach.\n",
    "\n",
    "(Hint: You will need to figure out how to use the vectorizer to convert indices back into the terms they represent.)"
   ]
  },
  {
   "cell_type": "code",
   "execution_count": 77,
   "metadata": {
    "deletable": false,
    "nbgrader": {
     "cell_type": "code",
     "checksum": "73780d42ca4a36fe68288e076eb07c88",
     "grade": false,
     "grade_id": "cell-163a8b35215df9ad",
     "locked": false,
     "schema_version": 3,
     "solution": true,
     "task": false
    }
   },
   "outputs": [],
   "source": [
    "import numpy as np\n",
    "\n",
    "def compute_cluster_summaries(kmeans, vectorizer, top_n):\n",
    "    \"\"\"Compute the top_n highest-weighted terms from the centroid of each cluster.\n",
    "\n",
    "    Arguments:\n",
    "        kmeans: The trained k-means classifier.\n",
    "        vectorizer: The fitted vectorizer; needed to obtain the actual terms\n",
    "                    belonging to the items in the cluster.\n",
    "        top_n: The number of terms to return for each cluster.\n",
    "\n",
    "    Returns:\n",
    "        A list of length k, where k is the number of clusters. Each item in the list\n",
    "        should be a list of length `top_n` with the highest-weighted terms from that\n",
    "        cluster.\n",
    "    \"\"\"\n",
    "    centroids = kmeans.cluster_centers_\n",
    "\n",
    "    feature_names = vectorizer.get_feature_names_out()\n",
    "\n",
    "    cluster_summaries = []\n",
    "\n",
    "    for centroid in centroids:\n",
    "\n",
    "        sorted_indices = centroid.argsort()[-top_n:][::-1]\n",
    "\n",
    "        sorted_terms = [feature_names[i] for i in sorted_indices]\n",
    "\n",
    "        cluster_summaries.append(sorted_terms)\n",
    "\n",
    "    return cluster_summaries\n",
    "\n",
    "#raise NotImplementedError()"
   ]
  },
  {
   "cell_type": "markdown",
   "metadata": {
    "tags": [
     "solution"
    ]
   },
   "source": [
    "### 🤞 Test your code\n",
    "\n",
    "The following cell runs your code with `top_n=10`, checks that the returned lists have the expected dimensions, and prints the summaries:"
   ]
  },
  {
   "cell_type": "code",
   "execution_count": 78,
   "metadata": {
    "deletable": false,
    "editable": false,
    "nbgrader": {
     "cell_type": "code",
     "checksum": "7f7b0b2a80b8227e4232eb58af9dee4f",
     "grade": true,
     "grade_id": "cell-068cd41672d89838",
     "locked": true,
     "points": 1,
     "schema_version": 3,
     "solution": false,
     "task": false
    },
    "tags": [
     "solution"
    ]
   },
   "outputs": [
    {
     "data": {
      "text/html": [
       "<div class=\"alert alert-success\"><strong>Solution appears correct!</strong></div>"
      ],
      "text/plain": [
       "<IPython.core.display.HTML object>"
      ]
     },
     "metadata": {},
     "output_type": "display_data"
    },
    {
     "name": "stdout",
     "output_type": "stream",
     "text": [
      "Cluster 0: movie, album, cd, like, music, film, just, great, songs, good\n",
      "Cluster 1: camera, product, use, great, does, software, lens, good, just, used\n",
      "Cluster 2: book, read, books, author, reading, story, like, quot, just, written\n"
     ]
    }
   ],
   "source": [
    "summaries = compute_cluster_summaries(kmeans, vectorizer, 10)\n",
    "\n",
    "assert isinstance(summaries, list) and len(summaries) == 3, \"Return value should be a list of length 3 (the number of clusters)\"\n",
    "assert all(len(summary) == 10 for summary in summaries), \"Each list should contain exactly 10 terms\"\n",
    "assert all(isinstance(term, str) for s in summaries for term in s), \"Each list should contain strings\"\n",
    "success()\n",
    "\n",
    "for idx, terms in enumerate(summaries):\n",
    "    print(f\"Cluster {idx}: {', '.join(terms)}\")"
   ]
  },
  {
   "cell_type": "markdown",
   "metadata": {},
   "source": [
    "Once you have computed the cluster summaries, take a minute to reflect on their quality. Is it clear what the reviews in a given cluster are about? Do the cluster summaries contain any unexpected terms?"
   ]
  },
  {
   "cell_type": "markdown",
   "metadata": {},
   "source": [
    "The first cluster is about digital camera\\\r",
    "The second cluster is about book\\\n",
    "The third cluster is about music and movies."
   ]
  },
  {
   "cell_type": "markdown",
   "metadata": {},
   "source": [
    "## Problem 3: Compare clusterings using the Rand index"
   ]
  },
  {
   "cell_type": "markdown",
   "metadata": {},
   "source": [
    "In some scenarios, you may have gold-standard class labels available for at least a subset of your documents. In these cases you can compute the **Rand index** of a clustering, and use this measure to compare the quality of different clusterings.\n",
    "\n",
    "To compute the Rand index, we view a clustering as a binary classifier on (unordered) pairs of documents. The classifier predicts &lsquo;positive&rsquo; if and only if the two documents belong to the same cluster. The (non-normalized) Rand index of the clustering is the accuracy of this classifier relative to a reference in which a document pair belongs to the &lsquo;positive&rsquo; class if and only if the two documents in the pair have the same gold-standard class label."
   ]
  },
  {
   "cell_type": "markdown",
   "metadata": {},
   "source": [
    "### Task 3.1\n",
    "\n",
    "Implement a function that computes the Rand index “manually”, i.e., _without_ importing an external function from a library."
   ]
  },
  {
   "cell_type": "code",
   "execution_count": 12,
   "metadata": {
    "deletable": false,
    "nbgrader": {
     "cell_type": "code",
     "checksum": "31d1156b7fe04f427a13c7b312e6ef03",
     "grade": false,
     "grade_id": "cell-76954c34414f243d",
     "locked": false,
     "schema_version": 3,
     "solution": true,
     "task": false
    },
    "tags": [
     "solution"
    ]
   },
   "outputs": [],
   "source": [
    "def rand_index(pred_labels, gold_labels):\n",
    "    \"\"\"Compute the Rand index.\n",
    "\n",
    "    Arguments:\n",
    "        pred_labels: The predicted labels.\n",
    "        gold_labels: The gold-standard labels.\n",
    "\n",
    "    Returns:\n",
    "        The Rand index (a single number).\n",
    "    \"\"\"\n",
    "    # YOUR CODE HERE\n",
    "    N=len(pred_labels)\n",
    "    Total_pair=(N*(N-1))/2\n",
    "    a=0  #Let a be the number of pairs of samples that are in the same cluster \n",
    "    b=0 #Let b be the number of pairs of samples that are in different clusters \n",
    "    # RI = (a + b) / (N choose 2)\n",
    "    #https://oecd.ai/en/catalogue/metrics/adjusted-rand-index-%28ari%29\n",
    "    \n",
    "    for i in range(N):\n",
    "        for j in range((i+1),N):\n",
    "            if pred_labels[i]==pred_labels[j] and gold_labels[i]==gold_labels[j]:\n",
    "                a=a+1\n",
    "            elif pred_labels[i]!=pred_labels[j] and gold_labels[i]!=gold_labels[j]:\n",
    "                b=b+1\n",
    "    return(a+b)/Total_pair\n",
    "    #raise NotImplementedError()"
   ]
  },
  {
   "cell_type": "markdown",
   "metadata": {},
   "source": [
    "#### 🤞 Test your code\n",
    "\n",
    "The following cell computes the Rand index on some “toy” examples to check if your implementation is correct:"
   ]
  },
  {
   "cell_type": "code",
   "execution_count": 13,
   "metadata": {
    "deletable": false,
    "editable": false,
    "nbgrader": {
     "cell_type": "code",
     "checksum": "4de223b4bd77bb39a629bcecb211fff6",
     "grade": true,
     "grade_id": "cell-c7bdeb650dcffdc0",
     "locked": true,
     "points": 1,
     "schema_version": 3,
     "solution": false,
     "task": false
    }
   },
   "outputs": [
    {
     "data": {
      "text/html": [
       "<div class=\"alert alert-success\"><strong>Solution appears correct!</strong></div>"
      ],
      "text/plain": [
       "<IPython.core.display.HTML object>"
      ]
     },
     "metadata": {},
     "output_type": "display_data"
    }
   ],
   "source": [
    "assert rand_index([0, 0, 0], [0, 1, 2]) == 0.0\n",
    "assert rand_index([1, 2, 0], [0, 1, 2]) == 1.0\n",
    "assert rand_index([1, 2, 1, 2], [0, 1, 2, 2]) == 0.5\n",
    "success()"
   ]
  },
  {
   "cell_type": "markdown",
   "metadata": {},
   "source": [
    "### Task 3.2\n",
    "\n",
    "Using your implementation of the Rand index, compare the performance of different k-means clusters with $k \\in \\{1,2,3,5,7\\}$ clusters. As your evaluation data, use the first 500 documents from the original data set along with their gold-standard categories (from the `category` column).\n",
    "\n",
    "Your implementation should print the computed Rand index for each of the values for $k$."
   ]
  },
  {
   "cell_type": "code",
   "execution_count": 14,
   "metadata": {
    "deletable": false,
    "nbgrader": {
     "cell_type": "code",
     "checksum": "2f80b627a09960efb60af3b56678a802",
     "grade": true,
     "grade_id": "cell-66890753e9a48887",
     "locked": false,
     "points": 1,
     "schema_version": 3,
     "solution": true,
     "task": false
    },
    "tags": [
     "solution"
    ]
   },
   "outputs": [
    {
     "name": "stderr",
     "output_type": "stream",
     "text": [
      "C:\\Users\\46737\\Miniconda 3\\envs\\liu_text_mining\\Lib\\site-packages\\sklearn\\cluster\\_kmeans.py:1416: FutureWarning: The default value of `n_init` will change from 10 to 'auto' in 1.4. Set the value of `n_init` explicitly to suppress the warning\n",
      "  super()._check_params_vs_input(X, default_n_init=10)\n"
     ]
    },
    {
     "name": "stdout",
     "output_type": "stream",
     "text": [
      "0.16626052104208416\n",
      "0.3138196392785571\n",
      "0.44464128256513025\n",
      "0.6833827655310621\n",
      "0.7626773547094189\n"
     ]
    }
   ],
   "source": [
    "# YOUR CODE HERE\n",
    "gold_standard_categories = df[\"category\"][:500]\n",
    "data = reviews[:500,:]\n",
    "\n",
    "#rand_index :  how well the clustering aligns with the actual categories\n",
    "for i in [1,2,3,5,7]:\n",
    "    kmean = KMeans(n_clusters=i).fit(reviews)\n",
    "    prediction = kmean.predict(data)\n",
    "    print(rand_index(gold_standard_categories, prediction))\n",
    "\n",
    "\n",
    "#raise NotImplementedError()"
   ]
  },
  {
   "cell_type": "markdown",
   "metadata": {},
   "source": [
    "Give a brief summary of your results!"
   ]
  },
  {
   "cell_type": "markdown",
   "metadata": {
    "deletable": false,
    "nbgrader": {
     "cell_type": "markdown",
     "checksum": "3fa53fcb38d0309276a8689dd70eb169",
     "grade": true,
     "grade_id": "cell-ef200b0b79192210",
     "locked": false,
     "points": 1,
     "schema_version": 3,
     "solution": true,
     "task": false
    }
   },
   "source": [
    "As the number of clusters increases, the Rand Index typically gets better. This suggests that having more clusters gives a more accurate representation of the hidden patterns within the data. As we can see, the best Rand Index occurs when we have seven clusters, approximately at 0.763. This indicates that having seven clusters leads to the highest level of agreement with the predefined categories (gold standard) compared to the predictions."
   ]
  },
  {
   "cell_type": "markdown",
   "metadata": {},
   "source": [
    "## Problem 4: Train a topic model"
   ]
  },
  {
   "cell_type": "markdown",
   "metadata": {},
   "source": [
    "### Data set"
   ]
  },
  {
   "cell_type": "markdown",
   "metadata": {},
   "source": [
    "The data set for the topic modelling part of this lab is the collection of all [State of the Union](https://en.wikipedia.org/wiki/State_of_the_Union) addresses from the years 1975–2000. These speeches come as a single text file with one sentence per line. The following code cell prints the first 5 lines from the data file:"
   ]
  },
  {
   "cell_type": "code",
   "execution_count": 15,
   "metadata": {
    "deletable": false,
    "editable": false,
    "nbgrader": {
     "cell_type": "code",
     "checksum": "d5e5be2b47aae266f8df5e3f7fca032e",
     "grade": false,
     "grade_id": "cell-a711c6fabeaeae3e",
     "locked": true,
     "schema_version": 3,
     "solution": false,
     "task": false
    }
   },
   "outputs": [
    {
     "name": "stdout",
     "output_type": "stream",
     "text": [
      "mr speaker mr vice president members of the 94th congress and distinguished guests\n",
      "twenty six years ago a freshman congressman a young fellow with lots of idealism who was out to change the world stood before sam rayburn in the well of the house and solemnly swore to the same oath that all of you took yesterday an unforgettable experience and i congratulate you all\n",
      "two days later that same freshman stood at the back of this great chamber over there someplace as president truman all charged up by his single handed election victory reported as the constitution requires on the state of the union\n",
      "when the bipartisan applause stopped president truman said i am happy to report to this 81st congress that the state of the union is good our nation is better able than ever before to meet the needs of the american people and to give them their fair chance in the pursuit of happiness it is foremost among the nations of the world in the search for peace\n",
      "today that freshman member from michigan stands where mr truman stood and i must say to you that the state of the union is not good\n"
     ]
    }
   ],
   "source": [
    "from itertools import islice\n",
    "\n",
    "with open('sotu_1975_2000.txt') as source:\n",
    "    # Print the first 5 lines only\n",
    "    for line in islice(source, 5):\n",
    "        print(line.rstrip())"
   ]
  },
  {
   "cell_type": "markdown",
   "metadata": {},
   "source": [
    "Take a few minutes to think about what topics you would expect in this data set."
   ]
  },
  {
   "cell_type": "markdown",
   "metadata": {},
   "source": [
    "### Task 4.1\n",
    "\n",
    "Your first task on the topic modelling data is to train an LDA model. For this task you will be using [spaCy](https://spacy.io/) and the [gensim](https://radimrehurek.com/gensim/) topic modelling library.\n",
    "\n",
    "Start by preprocessing the data using spaCy.  Filter out stop words, non-alphabetic tokens, and tokens less than 3 characters in length. Store the documents as a nested list where the first level of nesting corresponds to the sentences and the second level corresponds to the tokens in each sentence."
   ]
  },
  {
   "cell_type": "code",
   "execution_count": 29,
   "metadata": {
    "deletable": false,
    "nbgrader": {
     "cell_type": "code",
     "checksum": "16b4a664e4f2a13ff57f5b040448b063",
     "grade": false,
     "grade_id": "cell-201e607b610e47af",
     "locked": false,
     "schema_version": 3,
     "solution": true,
     "task": false
    }
   },
   "outputs": [],
   "source": [
    "import spacy\n",
    "nlp = spacy.load(\"en_core_web_sm\")\n",
    "\n",
    "def load_and_preprocess_documents(filename=\"sotu_1975_2000.txt\"):\n",
    "    \"\"\"Load and preprocess all documents in the given file.\n",
    "\n",
    "    The preprocessing must filter out stop words, non-alphabetic tokens,\n",
    "    and tokens less than 3 characters in length.\n",
    "\n",
    "    Returns:\n",
    "        A list of length n, where n is the number of documents.\n",
    "        Each item in the list should be a list of tokens in the given\n",
    "        document, after preprocessing.\n",
    "    \"\"\"\n",
    "    # YOUR CODE HERE\n",
    "\n",
    "\n",
    "    # TODO: Replace the following lines with your own code for preprocessing the documents\n",
    "    token_preprocessed=[]\n",
    "    with open(filename) as source:\n",
    "        for line in source:\n",
    "            doc = nlp(line)\n",
    "            #Filter out stop words, non-alphabetic tokens, and tokens less than 3 characters in length\n",
    "            token_each_line = [token.text for token in doc if not token.is_stop and token.is_alpha and not len(token) < 3]\n",
    "            token_preprocessed.append(token_each_line)\n",
    "    return(token_preprocessed)\n",
    "    #raise NotImplementedError()"
   ]
  },
  {
   "cell_type": "markdown",
   "metadata": {},
   "source": [
    "#### 🤞 Test your code\n",
    "\n",
    "Test your preprocessing by running the following cell. It will output the tokens (after preprocessing) for an example document and compare them against the expected output."
   ]
  },
  {
   "cell_type": "code",
   "execution_count": 30,
   "metadata": {
    "deletable": false,
    "editable": false,
    "nbgrader": {
     "cell_type": "code",
     "checksum": "229dff2225112ff17f3aa598dd5145da",
     "grade": true,
     "grade_id": "cell-4fa26bc22c42b359",
     "locked": true,
     "points": 1,
     "schema_version": 3,
     "solution": false,
     "task": false
    }
   },
   "outputs": [
    {
     "name": "stdout",
     "output_type": "stream",
     "text": [
      "document  0 after preprocessing: speaker vice president members congress distinguished guests\n",
      "document 42 after preprocessing: reduce oil imports million barrels day end year million barrels day end\n"
     ]
    },
    {
     "data": {
      "text/html": [
       "<div class=\"alert alert-success\"><strong>Solution appears correct!</strong></div>"
      ],
      "text/plain": [
       "<IPython.core.display.HTML object>"
      ]
     },
     "metadata": {},
     "output_type": "display_data"
    }
   ],
   "source": [
    "documents = load_and_preprocess_documents()\n",
    "\n",
    "assert len(documents) == 2898, \"The number of documents should equal the number of lines in the input file\"\n",
    "print(f\"document  0 after preprocessing: {' '.join(documents[0])}\")\n",
    "assert \" \".join(documents[0]) == \"speaker vice president members congress distinguished guests\"\n",
    "print(f\"document 42 after preprocessing: {' '.join(documents[42])}\")\n",
    "assert \" \".join(documents[42]) == \"reduce oil imports million barrels day end year million barrels day end\", \"The output for document 42 does not appear to be correct\"\n",
    "success()"
   ]
  },
  {
   "cell_type": "markdown",
   "metadata": {},
   "source": [
    "### Task 4.2\n",
    "\n",
    "Now that you have the list of documents, skim the section [Pre-process and vectorize the documents](https://radimrehurek.com/gensim/auto_examples/tutorials/run_lda.html#pre-process-and-vectorize-the-documents) of the gensim documentation to learn how to create the dictionary and the vectorized corpus representation required by gensim. _(Note that you cannot use the standard scikit-learn pipeline in this case.)_ Then, write code to train an [LdaModel](https://radimrehurek.com/gensim/models/ldamodel.html) for $k=10$ topics, and using default values for all other parameters."
   ]
  },
  {
   "cell_type": "code",
   "execution_count": 79,
   "metadata": {
    "deletable": false,
    "nbgrader": {
     "cell_type": "code",
     "checksum": "91f666ca9c35be5c2b905f6ddf334ff4",
     "grade": true,
     "grade_id": "cell-8461457012cd240d",
     "locked": false,
     "points": 1,
     "schema_version": 3,
     "solution": true,
     "task": false
    },
    "tags": [
     "solution"
    ]
   },
   "outputs": [],
   "source": [
    "from gensim.corpora.dictionary import Dictionary\n",
    "from gensim.models import LdaModel\n",
    "\n",
    "def train_lda_model(documents, num_topics, passes=1):\n",
    "    \"\"\"Create and train an LDA model.\n",
    "\n",
    "    Arguments:\n",
    "        documents: The preprocessed documents, as produced in Task 4.1.\n",
    "        num_topics: The number of topics to generate.\n",
    "        passes: The number of training passes. Defaults to 1; you will need\n",
    "                this later for Task 5.\n",
    "\n",
    "    Returns:\n",
    "        The trained LDA model.\n",
    "    \"\"\"\n",
    "    # YOUR CODE HERE\n",
    "    dictionary = Dictionary(documents)\n",
    "    corpus = [dictionary.doc2bow(text) for text in documents]\n",
    "\n",
    "    id2word = dictionary\n",
    "    \n",
    "    model = LdaModel(\n",
    "    corpus=corpus,\n",
    "    id2word=id2word,\n",
    "    num_topics=num_topics,\n",
    "    passes=passes\n",
    ")\n",
    "    return(model)\n",
    "    #raise NotImplementedError()"
   ]
  },
  {
   "cell_type": "markdown",
   "metadata": {},
   "source": [
    "#### 🤞 Test your code\n",
    "\n",
    "Run the following cell to test your code and print the topics:"
   ]
  },
  {
   "cell_type": "code",
   "execution_count": 80,
   "metadata": {
    "deletable": false,
    "editable": false,
    "nbgrader": {
     "cell_type": "code",
     "checksum": "fcf6eedb85c6fecb5c6dc7f7d441af6b",
     "grade": false,
     "grade_id": "cell-5380fd6f4446aa21",
     "locked": true,
     "schema_version": 3,
     "solution": false,
     "task": false
    }
   },
   "outputs": [
    {
     "data": {
      "text/plain": [
       "[(0,\n",
       "  '0.013*\"america\" + 0.011*\"years\" + 0.010*\"work\" + 0.010*\"new\" + 0.009*\"year\" + 0.007*\"congress\" + 0.007*\"people\" + 0.006*\"americans\" + 0.006*\"support\" + 0.006*\"help\"'),\n",
       " (1,\n",
       "  '0.010*\"people\" + 0.009*\"years\" + 0.008*\"tonight\" + 0.008*\"america\" + 0.008*\"welfare\" + 0.006*\"year\" + 0.006*\"work\" + 0.005*\"security\" + 0.005*\"let\" + 0.005*\"new\"'),\n",
       " (2,\n",
       "  '0.012*\"new\" + 0.010*\"people\" + 0.008*\"year\" + 0.007*\"america\" + 0.007*\"help\" + 0.006*\"tax\" + 0.006*\"cuts\" + 0.006*\"years\" + 0.005*\"century\" + 0.005*\"government\"'),\n",
       " (3,\n",
       "  '0.016*\"people\" + 0.013*\"work\" + 0.011*\"year\" + 0.011*\"children\" + 0.011*\"new\" + 0.010*\"america\" + 0.010*\"years\" + 0.008*\"let\" + 0.008*\"americans\" + 0.008*\"know\"'),\n",
       " (4,\n",
       "  '0.011*\"america\" + 0.009*\"nation\" + 0.009*\"world\" + 0.009*\"trade\" + 0.008*\"people\" + 0.008*\"american\" + 0.007*\"new\" + 0.006*\"way\" + 0.006*\"economic\" + 0.006*\"year\"'),\n",
       " (5,\n",
       "  '0.010*\"america\" + 0.010*\"world\" + 0.009*\"new\" + 0.006*\"year\" + 0.006*\"american\" + 0.006*\"health\" + 0.005*\"support\" + 0.005*\"help\" + 0.005*\"years\" + 0.005*\"security\"'),\n",
       " (6,\n",
       "  '0.009*\"congress\" + 0.008*\"new\" + 0.007*\"american\" + 0.007*\"work\" + 0.007*\"health\" + 0.006*\"americans\" + 0.006*\"care\" + 0.006*\"government\" + 0.005*\"people\" + 0.005*\"year\"'),\n",
       " (7,\n",
       "  '0.014*\"new\" + 0.008*\"want\" + 0.007*\"grade\" + 0.007*\"people\" + 0.006*\"national\" + 0.006*\"cancer\" + 0.005*\"nation\" + 0.005*\"world\" + 0.005*\"democracy\" + 0.005*\"teachers\"'),\n",
       " (8,\n",
       "  '0.008*\"thank\" + 0.007*\"crime\" + 0.006*\"children\" + 0.006*\"states\" + 0.006*\"americans\" + 0.005*\"medicare\" + 0.005*\"ask\" + 0.005*\"health\" + 0.005*\"year\" + 0.005*\"years\"'),\n",
       " (9,\n",
       "  '0.014*\"children\" + 0.014*\"america\" + 0.009*\"americans\" + 0.009*\"people\" + 0.008*\"let\" + 0.008*\"know\" + 0.007*\"congress\" + 0.007*\"years\" + 0.007*\"better\" + 0.006*\"fellow\"')]"
      ]
     },
     "execution_count": 80,
     "metadata": {},
     "output_type": "execute_result"
    }
   ],
   "source": [
    "model = train_lda_model(documents, 10)\n",
    "model.print_topics()"
   ]
  },
  {
   "cell_type": "markdown",
   "metadata": {},
   "source": [
    "Inspect the topics. Can you &lsquo;label&rsquo; each topic with a short description of what it is about? Do the topics match your expectations?"
   ]
  },
  {
   "cell_type": "markdown",
   "metadata": {},
   "source": [
    "Labeled Topics:\\\n",
    "Line 0: Work situation and Congress support\\\n",
    "Line 1: Welfare in society\\\n",
    "Line 2: New tax cuts policy\\\n",
    "Line 3: Working children\\\n",
    "Line 4: Economic policy on world trade\\\n",
    "Line 5: Health and security support\\\n",
    "Line 6: Healthcare people\\\n",
    "Line 7: National and Global levels of education\\\n",
    "Line 8: Children's crimes\\\n",
    "Line 9: Children in America"
   ]
  },
  {
   "cell_type": "markdown",
   "metadata": {},
   "source": [
    "## Problem 5: Monitor a topic model for convergence"
   ]
  },
  {
   "cell_type": "markdown",
   "metadata": {},
   "source": [
    "When learning an LDA model, it is important to make sure that the training algorithm has converged to a stable posterior distribution. One way to do so is to plot, after each training epochs (or &lsquo;pass&rsquo;, in gensim parlance) the log likelihood of the training data under the posterior. Your last task in this lab is to create such a plot and, based on this, to suggest an appropriate number of epochs.\n",
    "\n",
    "To collect information about the posterior likelihood after each pass, we need to enable the logging facilities of gensim. Once this is done, gensim will add various diagnostics to a log file `gensim.log`."
   ]
  },
  {
   "cell_type": "code",
   "execution_count": 44,
   "metadata": {
    "deletable": false,
    "editable": false,
    "nbgrader": {
     "cell_type": "code",
     "checksum": "093903f08ea645072cd835d7f07f39b5",
     "grade": false,
     "grade_id": "cell-12010ee79db96ae3",
     "locked": true,
     "schema_version": 3,
     "solution": false,
     "task": false
    }
   },
   "outputs": [],
   "source": [
    "import logging\n",
    "\n",
    "logging.basicConfig(filename='gensim.log', format='%(asctime)s:%(levelname)s:%(message)s', level=logging.INFO)\n",
    "\n",
    "def clear_logfile():\n",
    "    # To empty the log file\n",
    "    with open(\"gensim.log\", \"w\"):\n",
    "        pass"
   ]
  },
  {
   "cell_type": "markdown",
   "metadata": {},
   "source": [
    "The following function will parse the generated logfile and return the list of log likelihoods."
   ]
  },
  {
   "cell_type": "code",
   "execution_count": 46,
   "metadata": {
    "deletable": false,
    "editable": false,
    "nbgrader": {
     "cell_type": "code",
     "checksum": "35ed9c5af32a1a9a3891e7c4643c55e0",
     "grade": false,
     "grade_id": "cell-0bd244fbb805ee5d",
     "locked": true,
     "schema_version": 3,
     "solution": false,
     "task": false
    }
   },
   "outputs": [],
   "source": [
    "import re\n",
    "\n",
    "def parse_logfile():\n",
    "    \"\"\"Parse gensim.log to extract the log-likelihood scores.\n",
    "\n",
    "    Returns:\n",
    "        A list of log-likelihood scores.\n",
    "    \"\"\"\n",
    "    matcher = re.compile('(-*\\d+\\.\\d+) per-word .* (\\d+\\.\\d+) perplexity')\n",
    "    likelihoods = []\n",
    "    with open('gensim.log') as source:\n",
    "        for line in source:\n",
    "            match = matcher.search(line)\n",
    "            if match:\n",
    "                likelihoods.append(float(match.group(1)))\n",
    "    return likelihoods"
   ]
  },
  {
   "cell_type": "markdown",
   "metadata": {},
   "source": [
    "Here's an example how to run it — note that we call `clear_logfile()` to empty the logfile before training the model. If your code from problem 4 was correct, the result should be a list with a single log-likehoodscore, since we are doing a single training pass:"
   ]
  },
  {
   "cell_type": "code",
   "execution_count": 47,
   "metadata": {},
   "outputs": [
    {
     "name": "stdout",
     "output_type": "stream",
     "text": [
      "[-9.695]\n"
     ]
    }
   ],
   "source": [
    "clear_logfile()\n",
    "model = train_lda_model(documents, 10, passes=1)\n",
    "likelihoods = parse_logfile()\n",
    "print(likelihoods)"
   ]
  },
  {
   "cell_type": "markdown",
   "metadata": {},
   "source": [
    "### Task 5.1\n",
    "\n",
    "Your task now is to write re-train your LDA model for 50&nbsp;passes, retrieve the list of log likelihoods, and create a plot from this data."
   ]
  },
  {
   "cell_type": "code",
   "execution_count": 68,
   "metadata": {
    "deletable": false,
    "nbgrader": {
     "cell_type": "code",
     "checksum": "19d9b6f7d4470539e80e448e546f73c8",
     "grade": true,
     "grade_id": "cell-e863fa5ab8cd3443",
     "locked": false,
     "points": 1,
     "schema_version": 3,
     "solution": true,
     "task": false
    },
    "tags": [
     "solution"
    ]
   },
   "outputs": [],
   "source": [
    "import matplotlib.pyplot as plt\n",
    "\n",
    "def plot_likelihoods(likelihoods):\n",
    "    \"\"\"Produce & display a plot of the log-likelihood scores during training.\n",
    "\n",
    "    Arguments:\n",
    "        likelihoods: A list of scores, as returned by `parse_logfile()`.\n",
    "    \"\"\"\n",
    "    # YOUR CODE HERE\n",
    "    plt.plot(likelihoods, label='Log Likelihood_trained LDA over passes')\n",
    "    plt.xlabel(\"Passes\")\n",
    "    plt.ylabel(\"Log_Likelihood\")\n",
    "    plt.title(\"Training_LDA_Model\")\n",
    "    plt.legend()\n",
    "    plt.show()\n",
    "    # raise NotImplementedError()\n"
   ]
  },
  {
   "cell_type": "markdown",
   "metadata": {},
   "source": [
    "#### 🤞 Test your code\n",
    "\n",
    "Once you've implemented the plotting function, you can run the LDA model with 50 passes (this will take a moment) and plot the resulting scores:"
   ]
  },
  {
   "cell_type": "code",
   "execution_count": 69,
   "metadata": {
    "deletable": false,
    "editable": false,
    "nbgrader": {
     "cell_type": "code",
     "checksum": "e37e37873ac2ebb1292eb2b076d2b7d1",
     "grade": false,
     "grade_id": "cell-c7b05ddd48f08892",
     "locked": true,
     "schema_version": 3,
     "solution": false,
     "task": false
    }
   },
   "outputs": [
    {
     "data": {
      "image/png": "[encoded data removed]",
      "text/plain": [
       "<Figure size 640x480 with 1 Axes>"
      ]
     },
     "metadata": {},
     "output_type": "display_data"
    }
   ],
   "source": [
    "clear_logfile()\n",
    "model = train_lda_model(documents, 10, passes=50)\n",
    "likelihoods = parse_logfile()\n",
    "plot_likelihoods(likelihoods)"
   ]
  },
  {
   "cell_type": "markdown",
   "metadata": {},
   "source": [
    "### Task 5.2\n",
    "\n",
    "How do you interpret the plot you produced in Task 5.1? Based on the plot, what would be a reasonable choice for the number of passes? Retrain your LDA model with that number and re-inspect the topics it finds."
   ]
  },
  {
   "cell_type": "code",
   "execution_count": 71,
   "metadata": {
    "deletable": false,
    "nbgrader": {
     "cell_type": "code",
     "checksum": "ca1784a4dd4357b0958b6b854d06f209",
     "grade": true,
     "grade_id": "cell-8435567308839ce2",
     "locked": false,
     "points": 1,
     "schema_version": 3,
     "solution": true,
     "task": false
    }
   },
   "outputs": [
    {
     "data": {
      "text/plain": [
       "[(0,\n",
       "  '0.021*\"care\" + 0.021*\"health\" + 0.016*\"security\" + 0.016*\"children\" + 0.013*\"families\" + 0.012*\"americans\" + 0.012*\"social\" + 0.011*\"child\" + 0.010*\"work\" + 0.010*\"people\"'),\n",
       " (1,\n",
       "  '0.026*\"new\" + 0.011*\"america\" + 0.010*\"people\" + 0.009*\"work\" + 0.008*\"americans\" + 0.008*\"year\" + 0.007*\"century\" + 0.007*\"jobs\" + 0.007*\"need\" + 0.007*\"community\"'),\n",
       " (2,\n",
       "  '0.018*\"america\" + 0.013*\"crime\" + 0.013*\"years\" + 0.008*\"nation\" + 0.008*\"women\" + 0.007*\"hold\" + 0.007*\"country\" + 0.007*\"american\" + 0.007*\"community\" + 0.006*\"work\"'),\n",
       " (3,\n",
       "  '0.024*\"children\" + 0.018*\"know\" + 0.015*\"people\" + 0.012*\"help\" + 0.011*\"want\" + 0.010*\"work\" + 0.010*\"don\" + 0.009*\"right\" + 0.008*\"parents\" + 0.007*\"let\"'),\n",
       " (4,\n",
       "  '0.021*\"peace\" + 0.019*\"world\" + 0.015*\"nuclear\" + 0.013*\"soviet\" + 0.012*\"nations\" + 0.010*\"states\" + 0.009*\"united\" + 0.008*\"security\" + 0.008*\"war\" + 0.008*\"international\"'),\n",
       " (5,\n",
       "  '0.013*\"world\" + 0.012*\"years\" + 0.011*\"america\" + 0.010*\"new\" + 0.010*\"energy\" + 0.007*\"economic\" + 0.007*\"american\" + 0.007*\"future\" + 0.006*\"congress\" + 0.006*\"economy\"'),\n",
       " (6,\n",
       "  '0.024*\"let\" + 0.019*\"people\" + 0.012*\"reform\" + 0.012*\"know\" + 0.010*\"year\" + 0.009*\"welfare\" + 0.008*\"country\" + 0.008*\"american\" + 0.007*\"ask\" + 0.007*\"believe\"'),\n",
       " (7,\n",
       "  '0.017*\"federal\" + 0.016*\"government\" + 0.014*\"year\" + 0.013*\"tax\" + 0.013*\"budget\" + 0.012*\"congress\" + 0.011*\"programs\" + 0.011*\"years\" + 0.007*\"welfare\" + 0.007*\"people\"'),\n",
       " (8,\n",
       "  '0.026*\"america\" + 0.016*\"schools\" + 0.013*\"school\" + 0.011*\"best\" + 0.011*\"tonight\" + 0.011*\"state\" + 0.010*\"world\" + 0.010*\"right\" + 0.009*\"teachers\" + 0.009*\"education\"'),\n",
       " (9,\n",
       "  '0.015*\"president\" + 0.013*\"congress\" + 0.013*\"members\" + 0.010*\"fellow\" + 0.009*\"americans\" + 0.007*\"grade\" + 0.007*\"vice\" + 0.007*\"speaker\" + 0.006*\"row\" + 0.006*\"policy\"')]"
      ]
     },
     "execution_count": 71,
     "metadata": {},
     "output_type": "execute_result"
    }
   ],
   "source": [
    "# YOUR CODE HERE\n",
    "model = train_lda_model(documents, 10, passes=30)\n",
    "model.print_topics()\n",
    "\n",
    "#raise NotImplementedError()"
   ]
  },
  {
   "cell_type": "markdown",
   "metadata": {},
   "source": [
    "Write a **brief** paragraph explaining how you chose the number of passes, and whether or not you consider the new topics to be &lsquo;better&rsquo; than the ones that you got from the 1-pass model in Problem&nbsp;4."
   ]
  },
  {
   "cell_type": "markdown",
   "metadata": {
    "deletable": false,
    "nbgrader": {
     "cell_type": "markdown",
     "checksum": "6b0703001a1b39ac3f3130c1d8f7a1c8",
     "grade": true,
     "grade_id": "cell-4830420c2012bd98",
     "locked": false,
     "points": 1,
     "schema_version": 3,
     "solution": true,
     "task": false
    }
   },
   "source": [
    "Passes=30\\\n",
    "Here we can see that the log-likelihood increases when the passes increase and after some time it converges to almost -8.\n",
    "So we set the number of passes to 30 as we cannot see a significant change in the model by increasing over 30. Added to that increasing the number of passes implies computational cost and makes a risk of overfitting more.\\\n",
    "\n",
    "\n",
    "New Labeled Topics:\\\n",
    "Line 0: Healthcare system for children\\\n",
    "Line 1: New jobs in America\\ \n",
    "Line 2: Crime against women in US nation\\\n",
    "Line 3: support and responsibility in relation to children\\\n",
    "Line 4: Global peace and security on the nuclear issue\\\n",
    "Line 5: New Kinds of Energy Policies\\\n",
    "Line 6: Reform of social welfare\\\n",
    "Line 7: Tax policies\\\n",
    "Line 8: Education system\\\n",
    "Line 9: Vice president speech in Congress\\ "
   ]
  },
  {
   "cell_type": "markdown",
   "metadata": {},
   "source": [
    "**Congratulations on finishing this lab! 👍**\n",
    "\n",
    "<div class=\"alert alert-info\">\n",
    "    \n",
    "➡️ Don't forget to **test that everything runs as expected** before you submit!\n",
    "\n",
    "</div>"
   ]
  }
 ],
 "metadata": {
  "kernelspec": {
   "display_name": "Python 3 (ipykernel)",
   "language": "python",
   "name": "python3"
  },
  "language_info": {
   "codemirror_mode": {
    "name": "ipython",
    "version": 3
   },
   "file_extension": ".py",
   "mimetype": "text/x-python",
   "name": "python",
   "nbconvert_exporter": "python",
   "pygments_lexer": "ipython3",
   "version": "3.11.6"
  }
 },
 "nbformat": 4,
 "nbformat_minor": 4
}
